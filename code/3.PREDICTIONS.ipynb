{
 "cells": [
  {
   "cell_type": "markdown",
   "id": "b9c30f88-2a2c-4a02-8d93-09a76a11816e",
   "metadata": {},
   "source": [
    "# SELLS PREDICTIONS "
   ]
  },
  {
   "cell_type": "markdown",
   "id": "0bdac813-c19a-4834-a3af-042b851b47b4",
   "metadata": {},
   "source": [
    "This part aims to use Random Foret Regression to see if we can predict future sales."
   ]
  },
  {
   "cell_type": "code",
   "execution_count": 1,
   "id": "cc68cf73-044c-4292-9613-7d7e0a01eaf6",
   "metadata": {},
   "outputs": [],
   "source": [
    "import pandas as pd #Data manipulation\n",
    "import numpy as np\n",
    "import seaborn as sns #Hitograms\n",
    "import plotly.express as px # Plots\n",
    "import matplotlib.pyplot as plt\n",
    "import warnings\n",
    "import matplotlib.pyplot as plt #Plots\n",
    "%matplotlib inline \n",
    "\n",
    "\n",
    "from sklearn import datasets, metrics\n",
    "from sklearn.model_selection import train_test_split\n",
    "from sklearn.ensemble import RandomForestRegressor\n",
    "from sklearn.preprocessing import LabelEncoder\n",
    "\n",
    "# My modules and classes\n",
    "from OOP.clients_preprocess import clients_preprocessing as cp\n",
    "from OOP.tickets_preprocess import tickets_preprocessing as tp\n",
    "from OOP.process import data_process as dp\n",
    "\n",
    "# Ignoring messages from pf.categories_by_person(absences) function\\n\",\n",
    "warnings.filterwarnings(\"ignore\")"
   ]
  },
  {
   "cell_type": "markdown",
   "id": "528123cc-9196-4cf5-aed3-de248fb6f42f",
   "metadata": {},
   "source": [
    "###### Loading Datasets"
   ]
  },
  {
   "cell_type": "code",
   "execution_count": 2,
   "id": "fd072b26-5b35-4c72-9219-3ba9d35926cc",
   "metadata": {},
   "outputs": [],
   "source": [
    "tickets_process = tp()\n",
    "tickets = tickets_process.payment_types_col()"
   ]
  },
  {
   "cell_type": "code",
   "execution_count": 3,
   "id": "5a6717ab-cfa3-45f9-aa0e-4d84c0c0a094",
   "metadata": {},
   "outputs": [],
   "source": [
    "clients_process=cp()\n",
    "clients=clients_process.inputer()\n",
    "clients=cp.age_outliers_replace(clients)"
   ]
  },
  {
   "cell_type": "code",
   "execution_count": 4,
   "id": "53338fb8-c27d-439c-a6e0-942760fea357",
   "metadata": {},
   "outputs": [
    {
     "data": {
      "text/plain": [
       "Index(['ticketID', 'clientID', 'storeID', 'ticketDate', 'payed', 'quantity',\n",
       "       'class', 'postalCode', 'countryCode', 'gender', 'age', 'favoriteStore',\n",
       "       'firstDate'],\n",
       "      dtype='object')"
      ]
     },
     "execution_count": 4,
     "metadata": {},
     "output_type": "execute_result"
    }
   ],
   "source": [
    "#Main data for predictions\n",
    "clients_tickets = dp.clients_tickets_merge(clients_data =clients, tickets_data =tickets)\n",
    "clients_tickets.columns"
   ]
  },
  {
   "cell_type": "markdown",
   "id": "0d414bff-533e-49e8-999d-039b830c497b",
   "metadata": {},
   "source": [
    "###### Separating Categorical Variables From Numeric Variables"
   ]
  },
  {
   "cell_type": "code",
   "execution_count": 5,
   "id": "236a582a-fd77-4e2b-85e7-21e8ed49d159",
   "metadata": {},
   "outputs": [],
   "source": [
    "X = clients_tickets[['clientID','storeID','countryCode','gender','age']]\n",
    "\n",
    "# Convert categorical variables to numerical using LabelEncoder\n",
    "le = LabelEncoder()\n",
    "X_categorical = X.select_dtypes(include=['object']).apply(le.fit_transform)\n",
    "X = X.drop(X_categorical.columns, axis=1)\n",
    "X = pd.concat([X, X_categorical], axis=1)\n",
    "Y = clients_tickets['payed']"
   ]
  },
  {
   "cell_type": "code",
   "execution_count": 6,
   "id": "389e9c35-70c9-4579-a638-b4b376432fb7",
   "metadata": {},
   "outputs": [],
   "source": [
    "x_train,x_test,y_train,y_test = train_test_split(X,Y,test_size=0.3,random_state=42)"
   ]
  },
  {
   "cell_type": "code",
   "execution_count": 7,
   "id": "aef9d7ef-3db4-42e5-af20-dc6cece40f67",
   "metadata": {},
   "outputs": [
    {
     "name": "stdout",
     "output_type": "stream",
     "text": [
      "x_train:(277910, 5), x_test:(119105, 5)\n"
     ]
    }
   ],
   "source": [
    "print( f'x_train:{x_train.shape}, x_test:{x_test.shape}')"
   ]
  },
  {
   "cell_type": "code",
   "execution_count": 8,
   "id": "a728f22d-3c7b-410b-b865-f9600e2f3e91",
   "metadata": {},
   "outputs": [
    {
     "name": "stdout",
     "output_type": "stream",
     "text": [
      "<class 'pandas.core.frame.DataFrame'>\n",
      "Int64Index: 277910 entries, 199671 to 121958\n",
      "Data columns (total 5 columns):\n",
      " #   Column       Non-Null Count   Dtype\n",
      "---  ------       --------------   -----\n",
      " 0   clientID     277910 non-null  int64\n",
      " 1   age          277910 non-null  int32\n",
      " 2   storeID      277910 non-null  int32\n",
      " 3   countryCode  277910 non-null  int32\n",
      " 4   gender       277910 non-null  int32\n",
      "dtypes: int32(4), int64(1)\n",
      "memory usage: 8.5 MB\n"
     ]
    }
   ],
   "source": [
    "x_train.info()"
   ]
  },
  {
   "cell_type": "markdown",
   "id": "a97e52e2-201c-4c2f-8632-c05dc668974b",
   "metadata": {},
   "source": [
    "###### Random Forest"
   ]
  },
  {
   "cell_type": "code",
   "execution_count": 9,
   "id": "5224efb5-a0d6-4087-a7b7-741922d61d34",
   "metadata": {},
   "outputs": [],
   "source": [
    "regressor = RandomForestRegressor(n_estimators=200,random_state=42)"
   ]
  },
  {
   "cell_type": "code",
   "execution_count": 10,
   "id": "74cb724c-7f87-4a5b-9342-69d9fca1794a",
   "metadata": {},
   "outputs": [
    {
     "data": {
      "text/html": [
       "<style>#sk-container-id-1 {color: black;background-color: white;}#sk-container-id-1 pre{padding: 0;}#sk-container-id-1 div.sk-toggleable {background-color: white;}#sk-container-id-1 label.sk-toggleable__label {cursor: pointer;display: block;width: 100%;margin-bottom: 0;padding: 0.3em;box-sizing: border-box;text-align: center;}#sk-container-id-1 label.sk-toggleable__label-arrow:before {content: \"▸\";float: left;margin-right: 0.25em;color: #696969;}#sk-container-id-1 label.sk-toggleable__label-arrow:hover:before {color: black;}#sk-container-id-1 div.sk-estimator:hover label.sk-toggleable__label-arrow:before {color: black;}#sk-container-id-1 div.sk-toggleable__content {max-height: 0;max-width: 0;overflow: hidden;text-align: left;background-color: #f0f8ff;}#sk-container-id-1 div.sk-toggleable__content pre {margin: 0.2em;color: black;border-radius: 0.25em;background-color: #f0f8ff;}#sk-container-id-1 input.sk-toggleable__control:checked~div.sk-toggleable__content {max-height: 200px;max-width: 100%;overflow: auto;}#sk-container-id-1 input.sk-toggleable__control:checked~label.sk-toggleable__label-arrow:before {content: \"▾\";}#sk-container-id-1 div.sk-estimator input.sk-toggleable__control:checked~label.sk-toggleable__label {background-color: #d4ebff;}#sk-container-id-1 div.sk-label input.sk-toggleable__control:checked~label.sk-toggleable__label {background-color: #d4ebff;}#sk-container-id-1 input.sk-hidden--visually {border: 0;clip: rect(1px 1px 1px 1px);clip: rect(1px, 1px, 1px, 1px);height: 1px;margin: -1px;overflow: hidden;padding: 0;position: absolute;width: 1px;}#sk-container-id-1 div.sk-estimator {font-family: monospace;background-color: #f0f8ff;border: 1px dotted black;border-radius: 0.25em;box-sizing: border-box;margin-bottom: 0.5em;}#sk-container-id-1 div.sk-estimator:hover {background-color: #d4ebff;}#sk-container-id-1 div.sk-parallel-item::after {content: \"\";width: 100%;border-bottom: 1px solid gray;flex-grow: 1;}#sk-container-id-1 div.sk-label:hover label.sk-toggleable__label {background-color: #d4ebff;}#sk-container-id-1 div.sk-serial::before {content: \"\";position: absolute;border-left: 1px solid gray;box-sizing: border-box;top: 0;bottom: 0;left: 50%;z-index: 0;}#sk-container-id-1 div.sk-serial {display: flex;flex-direction: column;align-items: center;background-color: white;padding-right: 0.2em;padding-left: 0.2em;position: relative;}#sk-container-id-1 div.sk-item {position: relative;z-index: 1;}#sk-container-id-1 div.sk-parallel {display: flex;align-items: stretch;justify-content: center;background-color: white;position: relative;}#sk-container-id-1 div.sk-item::before, #sk-container-id-1 div.sk-parallel-item::before {content: \"\";position: absolute;border-left: 1px solid gray;box-sizing: border-box;top: 0;bottom: 0;left: 50%;z-index: -1;}#sk-container-id-1 div.sk-parallel-item {display: flex;flex-direction: column;z-index: 1;position: relative;background-color: white;}#sk-container-id-1 div.sk-parallel-item:first-child::after {align-self: flex-end;width: 50%;}#sk-container-id-1 div.sk-parallel-item:last-child::after {align-self: flex-start;width: 50%;}#sk-container-id-1 div.sk-parallel-item:only-child::after {width: 0;}#sk-container-id-1 div.sk-dashed-wrapped {border: 1px dashed gray;margin: 0 0.4em 0.5em 0.4em;box-sizing: border-box;padding-bottom: 0.4em;background-color: white;}#sk-container-id-1 div.sk-label label {font-family: monospace;font-weight: bold;display: inline-block;line-height: 1.2em;}#sk-container-id-1 div.sk-label-container {text-align: center;}#sk-container-id-1 div.sk-container {/* jupyter's `normalize.less` sets `[hidden] { display: none; }` but bootstrap.min.css set `[hidden] { display: none !important; }` so we also need the `!important` here to be able to override the default hidden behavior on the sphinx rendered scikit-learn.org. See: https://github.com/scikit-learn/scikit-learn/issues/21755 */display: inline-block !important;position: relative;}#sk-container-id-1 div.sk-text-repr-fallback {display: none;}</style><div id=\"sk-container-id-1\" class=\"sk-top-container\"><div class=\"sk-text-repr-fallback\"><pre>RandomForestRegressor(n_estimators=200, random_state=42)</pre><b>In a Jupyter environment, please rerun this cell to show the HTML representation or trust the notebook. <br />On GitHub, the HTML representation is unable to render, please try loading this page with nbviewer.org.</b></div><div class=\"sk-container\" hidden><div class=\"sk-item\"><div class=\"sk-estimator sk-toggleable\"><input class=\"sk-toggleable__control sk-hidden--visually\" id=\"sk-estimator-id-1\" type=\"checkbox\" checked><label for=\"sk-estimator-id-1\" class=\"sk-toggleable__label sk-toggleable__label-arrow\">RandomForestRegressor</label><div class=\"sk-toggleable__content\"><pre>RandomForestRegressor(n_estimators=200, random_state=42)</pre></div></div></div></div></div>"
      ],
      "text/plain": [
       "RandomForestRegressor(n_estimators=200, random_state=42)"
      ]
     },
     "execution_count": 10,
     "metadata": {},
     "output_type": "execute_result"
    }
   ],
   "source": [
    "regressor.fit(x_train,y_train)"
   ]
  },
  {
   "cell_type": "code",
   "execution_count": 11,
   "id": "9aea783a-fcc8-4867-a11c-9dd8622b05ef",
   "metadata": {},
   "outputs": [],
   "source": [
    "y_pred = regressor.predict(x_test)"
   ]
  },
  {
   "cell_type": "code",
   "execution_count": 18,
   "id": "a492ce36-c7d6-476a-8d08-f1b769bdad88",
   "metadata": {},
   "outputs": [
    {
     "data": {
      "text/html": [
       "<div>\n",
       "<style scoped>\n",
       "    .dataframe tbody tr th:only-of-type {\n",
       "        vertical-align: middle;\n",
       "    }\n",
       "\n",
       "    .dataframe tbody tr th {\n",
       "        vertical-align: top;\n",
       "    }\n",
       "\n",
       "    .dataframe thead th {\n",
       "        text-align: right;\n",
       "    }\n",
       "</style>\n",
       "<table border=\"1\" class=\"dataframe\">\n",
       "  <thead>\n",
       "    <tr style=\"text-align: right;\">\n",
       "      <th></th>\n",
       "      <th>0</th>\n",
       "    </tr>\n",
       "    <tr>\n",
       "      <th>payed</th>\n",
       "      <th></th>\n",
       "    </tr>\n",
       "  </thead>\n",
       "  <tbody>\n",
       "    <tr>\n",
       "      <th>30.35</th>\n",
       "      <td>17.494305</td>\n",
       "    </tr>\n",
       "    <tr>\n",
       "      <th>4.65</th>\n",
       "      <td>51.619030</td>\n",
       "    </tr>\n",
       "    <tr>\n",
       "      <th>25.55</th>\n",
       "      <td>48.239925</td>\n",
       "    </tr>\n",
       "    <tr>\n",
       "      <th>5.00</th>\n",
       "      <td>21.570559</td>\n",
       "    </tr>\n",
       "    <tr>\n",
       "      <th>3.90</th>\n",
       "      <td>13.806313</td>\n",
       "    </tr>\n",
       "    <tr>\n",
       "      <th>...</th>\n",
       "      <td>...</td>\n",
       "    </tr>\n",
       "    <tr>\n",
       "      <th>15.00</th>\n",
       "      <td>28.472654</td>\n",
       "    </tr>\n",
       "    <tr>\n",
       "      <th>65.10</th>\n",
       "      <td>11.723633</td>\n",
       "    </tr>\n",
       "    <tr>\n",
       "      <th>34.70</th>\n",
       "      <td>37.559873</td>\n",
       "    </tr>\n",
       "    <tr>\n",
       "      <th>11.85</th>\n",
       "      <td>12.260065</td>\n",
       "    </tr>\n",
       "    <tr>\n",
       "      <th>68.80</th>\n",
       "      <td>20.601187</td>\n",
       "    </tr>\n",
       "  </tbody>\n",
       "</table>\n",
       "<p>119105 rows × 1 columns</p>\n",
       "</div>"
      ],
      "text/plain": [
       "               0\n",
       "payed           \n",
       "30.35  17.494305\n",
       "4.65   51.619030\n",
       "25.55  48.239925\n",
       "5.00   21.570559\n",
       "3.90   13.806313\n",
       "...          ...\n",
       "15.00  28.472654\n",
       "65.10  11.723633\n",
       "34.70  37.559873\n",
       "11.85  12.260065\n",
       "68.80  20.601187\n",
       "\n",
       "[119105 rows x 1 columns]"
      ]
     },
     "execution_count": 18,
     "metadata": {},
     "output_type": "execute_result"
    }
   ],
   "source": [
    "result = pd.DataFrame(y_pred,y_test)\n",
    "result"
   ]
  },
  {
   "cell_type": "code",
   "execution_count": 21,
   "id": "08fd0033-8f7d-43cb-bc7f-70b5bdb541aa",
   "metadata": {},
   "outputs": [
    {
     "data": {
      "text/plain": [
       "-0.04868035904908119"
      ]
     },
     "execution_count": 21,
     "metadata": {},
     "output_type": "execute_result"
    }
   ],
   "source": [
    "from sklearn.metrics import r2_score\n",
    "r2 = r2_score(y_test, y_pred)\n",
    "r2"
   ]
  },
  {
   "cell_type": "markdown",
   "id": "89710c1a-cfe1-43e7-827e-063abf343ea7",
   "metadata": {},
   "source": [
    "The r2 reflects poor predictions. Hence this model does not work to predict the sales."
   ]
  },
  {
   "cell_type": "code",
   "execution_count": 22,
   "id": "20a23e3e-28de-451b-abe7-4d584764c82c",
   "metadata": {},
   "outputs": [
    {
     "data": {
      "image/png": "[encoded data removed]",
      "text/plain": [
       "<Figure size 720x360 with 1 Axes>"
      ]
     },
     "metadata": {
      "needs_background": "light"
     },
     "output_type": "display_data"
    }
   ],
   "source": [
    "plt.figure(figsize =(10,5))\n",
    "plt.scatter(y_pred,y_test, color = 'red', label = 'comparison')\n",
    "plt.legend()\n",
    "plt.grid()\n",
    "plt.title('Random Forest Regression')\n",
    "plt.xlabel('Predictions')\n",
    "plt.ylabel('Test Observations')\n",
    "\n",
    "plt.show()"
   ]
  }
 ],
 "metadata": {
  "kernelspec": {
   "display_name": "Python 3 (ipykernel)",
   "language": "python",
   "name": "python3"
  },
  "language_info": {
   "codemirror_mode": {
    "name": "ipython",
    "version": 3
   },
   "file_extension": ".py",
   "mimetype": "text/x-python",
   "name": "python",
   "nbconvert_exporter": "python",
   "pygments_lexer": "ipython3",
   "version": "3.10.5"
  }
 },
 "nbformat": 4,
 "nbformat_minor": 5
}
